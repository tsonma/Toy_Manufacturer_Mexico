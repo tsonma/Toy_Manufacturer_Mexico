{
 "cells": [
  {
   "cell_type": "markdown",
   "metadata": {},
   "source": [
    "# Import python libaries"
   ]
  },
  {
   "cell_type": "code",
   "execution_count": 1,
   "metadata": {},
   "outputs": [],
   "source": [
    "import pandas as pd\n",
    "import numpy as np"
   ]
  },
  {
   "cell_type": "markdown",
   "metadata": {},
   "source": [
    "# Import & QA the data"
   ]
  },
  {
   "cell_type": "code",
   "execution_count": 10,
   "metadata": {},
   "outputs": [],
   "source": [
    "df_inventory = pd.read_csv(\"../Raw_Data/inventory.csv\", delimiter=\",\")\n",
    "df_products = pd.read_csv(\"../Raw_Data/products.csv\", delimiter=\",\")\n",
    "df_sales = pd.read_csv(\"../Raw_Data/sales.csv\", delimiter=\",\")\n",
    "df_stores = pd.read_csv(\"../Raw_Data/stores.csv\", delimiter=\",\")"
   ]
  },
  {
   "cell_type": "code",
   "execution_count": 11,
   "metadata": {},
   "outputs": [
    {
     "data": {
      "text/html": [
       "<div>\n",
       "<style scoped>\n",
       "    .dataframe tbody tr th:only-of-type {\n",
       "        vertical-align: middle;\n",
       "    }\n",
       "\n",
       "    .dataframe tbody tr th {\n",
       "        vertical-align: top;\n",
       "    }\n",
       "\n",
       "    .dataframe thead th {\n",
       "        text-align: right;\n",
       "    }\n",
       "</style>\n",
       "<table border=\"1\" class=\"dataframe\">\n",
       "  <thead>\n",
       "    <tr style=\"text-align: right;\">\n",
       "      <th></th>\n",
       "      <th>Sale_ID</th>\n",
       "      <th>Store_ID</th>\n",
       "      <th>Product_ID</th>\n",
       "      <th>Units</th>\n",
       "    </tr>\n",
       "  </thead>\n",
       "  <tbody>\n",
       "    <tr>\n",
       "      <th>count</th>\n",
       "      <td>829262.000000</td>\n",
       "      <td>829262.000000</td>\n",
       "      <td>829262.000000</td>\n",
       "      <td>829262.000000</td>\n",
       "    </tr>\n",
       "    <tr>\n",
       "      <th>mean</th>\n",
       "      <td>414631.500000</td>\n",
       "      <td>25.277034</td>\n",
       "      <td>15.014149</td>\n",
       "      <td>1.315103</td>\n",
       "    </tr>\n",
       "    <tr>\n",
       "      <th>std</th>\n",
       "      <td>239387.463802</td>\n",
       "      <td>14.352573</td>\n",
       "      <td>9.869417</td>\n",
       "      <td>0.830701</td>\n",
       "    </tr>\n",
       "    <tr>\n",
       "      <th>min</th>\n",
       "      <td>1.000000</td>\n",
       "      <td>1.000000</td>\n",
       "      <td>1.000000</td>\n",
       "      <td>1.000000</td>\n",
       "    </tr>\n",
       "    <tr>\n",
       "      <th>25%</th>\n",
       "      <td>207316.250000</td>\n",
       "      <td>13.000000</td>\n",
       "      <td>6.000000</td>\n",
       "      <td>1.000000</td>\n",
       "    </tr>\n",
       "    <tr>\n",
       "      <th>50%</th>\n",
       "      <td>414631.500000</td>\n",
       "      <td>26.000000</td>\n",
       "      <td>14.000000</td>\n",
       "      <td>1.000000</td>\n",
       "    </tr>\n",
       "    <tr>\n",
       "      <th>75%</th>\n",
       "      <td>621946.750000</td>\n",
       "      <td>38.000000</td>\n",
       "      <td>24.000000</td>\n",
       "      <td>1.000000</td>\n",
       "    </tr>\n",
       "    <tr>\n",
       "      <th>max</th>\n",
       "      <td>829262.000000</td>\n",
       "      <td>50.000000</td>\n",
       "      <td>35.000000</td>\n",
       "      <td>30.000000</td>\n",
       "    </tr>\n",
       "  </tbody>\n",
       "</table>\n",
       "</div>"
      ],
      "text/plain": [
       "             Sale_ID       Store_ID     Product_ID          Units\n",
       "count  829262.000000  829262.000000  829262.000000  829262.000000\n",
       "mean   414631.500000      25.277034      15.014149       1.315103\n",
       "std    239387.463802      14.352573       9.869417       0.830701\n",
       "min         1.000000       1.000000       1.000000       1.000000\n",
       "25%    207316.250000      13.000000       6.000000       1.000000\n",
       "50%    414631.500000      26.000000      14.000000       1.000000\n",
       "75%    621946.750000      38.000000      24.000000       1.000000\n",
       "max    829262.000000      50.000000      35.000000      30.000000"
      ]
     },
     "execution_count": 11,
     "metadata": {},
     "output_type": "execute_result"
    }
   ],
   "source": [
    "# There does not seem to be any outliers\n",
    "df_inventory.describe()\n",
    "df_sales.describe()"
   ]
  },
  {
   "cell_type": "markdown",
   "metadata": {},
   "source": [
    "# Identify duplicated values "
   ]
  },
  {
   "cell_type": "code",
   "execution_count": 12,
   "metadata": {},
   "outputs": [
    {
     "data": {
      "text/html": [
       "<div>\n",
       "<style scoped>\n",
       "    .dataframe tbody tr th:only-of-type {\n",
       "        vertical-align: middle;\n",
       "    }\n",
       "\n",
       "    .dataframe tbody tr th {\n",
       "        vertical-align: top;\n",
       "    }\n",
       "\n",
       "    .dataframe thead th {\n",
       "        text-align: right;\n",
       "    }\n",
       "</style>\n",
       "<table border=\"1\" class=\"dataframe\">\n",
       "  <thead>\n",
       "    <tr style=\"text-align: right;\">\n",
       "      <th></th>\n",
       "      <th>Store_ID</th>\n",
       "      <th>Store_Name</th>\n",
       "      <th>Store_City</th>\n",
       "      <th>Store_Location</th>\n",
       "      <th>Store_Open_Date</th>\n",
       "    </tr>\n",
       "  </thead>\n",
       "  <tbody>\n",
       "  </tbody>\n",
       "</table>\n",
       "</div>"
      ],
      "text/plain": [
       "Empty DataFrame\n",
       "Columns: [Store_ID, Store_Name, Store_City, Store_Location, Store_Open_Date]\n",
       "Index: []"
      ]
     },
     "execution_count": 12,
     "metadata": {},
     "output_type": "execute_result"
    }
   ],
   "source": [
    "#No duplicates found\n",
    "df_inventory[df_inventory.duplicated(keep=False)]\n",
    "df_products[df_products.duplicated(keep=False)]\n",
    "df_sales[df_sales.duplicated(keep=False)]\n",
    "df_stores[df_stores.duplicated(keep=False)]"
   ]
  },
  {
   "cell_type": "markdown",
   "metadata": {},
   "source": [
    "# Identify changes to be made for the data type of each column in each table"
   ]
  },
  {
   "cell_type": "code",
   "execution_count": 13,
   "metadata": {},
   "outputs": [
    {
     "name": "stdout",
     "output_type": "stream",
     "text": [
      "<class 'pandas.core.frame.DataFrame'>\n",
      "RangeIndex: 35 entries, 0 to 34\n",
      "Data columns (total 5 columns):\n",
      " #   Column            Non-Null Count  Dtype \n",
      "---  ------            --------------  ----- \n",
      " 0   Product_ID        35 non-null     int64 \n",
      " 1   Product_Name      35 non-null     object\n",
      " 2   Product_Category  35 non-null     object\n",
      " 3   Product_Cost      35 non-null     object\n",
      " 4   Product_Price     35 non-null     object\n",
      "dtypes: int64(1), object(4)\n",
      "memory usage: 1.5+ KB\n",
      "<class 'pandas.core.frame.DataFrame'>\n",
      "RangeIndex: 829262 entries, 0 to 829261\n",
      "Data columns (total 5 columns):\n",
      " #   Column      Non-Null Count   Dtype \n",
      "---  ------      --------------   ----- \n",
      " 0   Sale_ID     829262 non-null  int64 \n",
      " 1   Date        829262 non-null  object\n",
      " 2   Store_ID    829262 non-null  int64 \n",
      " 3   Product_ID  829262 non-null  int64 \n",
      " 4   Units       829262 non-null  int64 \n",
      "dtypes: int64(4), object(1)\n",
      "memory usage: 31.6+ MB\n",
      "<class 'pandas.core.frame.DataFrame'>\n",
      "RangeIndex: 50 entries, 0 to 49\n",
      "Data columns (total 5 columns):\n",
      " #   Column           Non-Null Count  Dtype \n",
      "---  ------           --------------  ----- \n",
      " 0   Store_ID         50 non-null     int64 \n",
      " 1   Store_Name       50 non-null     object\n",
      " 2   Store_City       50 non-null     object\n",
      " 3   Store_Location   50 non-null     object\n",
      " 4   Store_Open_Date  50 non-null     object\n",
      "dtypes: int64(1), object(4)\n",
      "memory usage: 2.1+ KB\n"
     ]
    }
   ],
   "source": [
    "#Product table: product_cost and product_price need to be float\n",
    "df_products.info()\n",
    "# Sales table: Date column needs to be a date\n",
    "df_sales.info()\n",
    "# Stores table: Store_Open_Date column needs to be a date\n",
    "df_stores.info()\n",
    "\n",
    "# We can also observe that they're are no missing values since the total number of entries = non-null count for each column within each table.\n",
    "\n",
    "# Product table\n",
    "df_products['Product_Cost'] = df_products['Product_Cost'].str.replace('$','').astype(float)\n",
    "df_products['Product_Price'] = df_products['Product_Price'].str.replace('$','').astype(float)\n",
    "\n",
    "# Sales table\n",
    "df_sales.Date = pd.to_datetime(df_sales.Date, format = '%Y-%m-%d')\n",
    "\n",
    "# Stores table\n",
    "df_stores['Store_Open_Date'] = pd.to_datetime(df_stores['Store_Open_Date'], format = '%Y-%m-%d')"
   ]
  },
  {
   "cell_type": "markdown",
   "metadata": {},
   "source": [
    "# Remove redundant information to optimize data frame and fix typos in dataset"
   ]
  },
  {
   "cell_type": "code",
   "execution_count": 14,
   "metadata": {},
   "outputs": [],
   "source": [
    "# AS the store name always starts with Maven Toys, it is possible to remove it\n",
    "df_stores['Store_Name'] = df_stores['Store_Name'].str.replace('Maven Toys ','')\n",
    "\n",
    "#Switch Cuidad to Ciudad\n",
    "df_stores['Store_Name'] = df_stores['Store_Name'].str.replace('Cuidad','Ciudad')\n",
    "df_stores['Store_City'] = df_stores['Store_City'].str.replace('Cuidad','Ciudad')"
   ]
  },
  {
   "cell_type": "markdown",
   "metadata": {},
   "source": [
    "# Export cleaned dataframes to csv files"
   ]
  },
  {
   "cell_type": "code",
   "execution_count": 15,
   "metadata": {},
   "outputs": [],
   "source": [
    "df_inventory.to_csv(\"cleaned_inventory.csv\", index=False)\n",
    "df_products.to_csv(\"cleaned_products.csv\", index=False)\n",
    "df_sales.to_csv(\"cleaned_sales.csv\", index=False)\n",
    "df_stores.to_csv(\"cleaned_stores.csv\", index=False)"
   ]
  }
 ],
 "metadata": {
  "kernelspec": {
   "display_name": "venv",
   "language": "python",
   "name": "python3"
  },
  "language_info": {
   "codemirror_mode": {
    "name": "ipython",
    "version": 3
   },
   "file_extension": ".py",
   "mimetype": "text/x-python",
   "name": "python",
   "nbconvert_exporter": "python",
   "pygments_lexer": "ipython3",
   "version": "3.12.7"
  }
 },
 "nbformat": 4,
 "nbformat_minor": 2
}
